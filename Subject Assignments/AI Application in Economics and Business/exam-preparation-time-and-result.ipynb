{
 "cells": [
  {
   "cell_type": "markdown",
   "id": "04d58cb6-e4ca-461f-8b47-9c6f4f83ccba",
   "metadata": {},
   "source": [
    "# STUDENTS' EXAM PREPARATION TIME AND THE RELATIVE RESULTS"
   ]
  },
  {
   "cell_type": "code",
   "execution_count": 9,
   "id": "3c4353d4-f78b-47a3-8524-8ebeb9925e32",
   "metadata": {},
   "outputs": [
    {
     "data": {
      "text/html": [
       "<div>\n",
       "<style scoped>\n",
       "    .dataframe tbody tr th:only-of-type {\n",
       "        vertical-align: middle;\n",
       "    }\n",
       "\n",
       "    .dataframe tbody tr th {\n",
       "        vertical-align: top;\n",
       "    }\n",
       "\n",
       "    .dataframe thead th {\n",
       "        text-align: right;\n",
       "    }\n",
       "</style>\n",
       "<table border=\"1\" class=\"dataframe\">\n",
       "  <thead>\n",
       "    <tr style=\"text-align: right;\">\n",
       "      <th></th>\n",
       "      <th>Ma sinh vien</th>\n",
       "      <th>Ho va ten</th>\n",
       "      <th>Ngay sinh</th>\n",
       "      <th>Dia chi</th>\n",
       "      <th>So gio</th>\n",
       "      <th>Dau?</th>\n",
       "    </tr>\n",
       "  </thead>\n",
       "  <tbody>\n",
       "    <tr>\n",
       "      <th>0</th>\n",
       "      <td>11220001</td>\n",
       "      <td>A</td>\n",
       "      <td>1/1/2004</td>\n",
       "      <td>Ha Noi</td>\n",
       "      <td>0.50</td>\n",
       "      <td>0</td>\n",
       "    </tr>\n",
       "    <tr>\n",
       "      <th>1</th>\n",
       "      <td>11220002</td>\n",
       "      <td>B</td>\n",
       "      <td>1/2/2004</td>\n",
       "      <td>Ninh Binh</td>\n",
       "      <td>1.50</td>\n",
       "      <td>0</td>\n",
       "    </tr>\n",
       "    <tr>\n",
       "      <th>2</th>\n",
       "      <td>11220003</td>\n",
       "      <td>C</td>\n",
       "      <td>1/3/2004</td>\n",
       "      <td>Thanh Hoa</td>\n",
       "      <td>2.25</td>\n",
       "      <td>1</td>\n",
       "    </tr>\n",
       "    <tr>\n",
       "      <th>3</th>\n",
       "      <td>11220004</td>\n",
       "      <td>D</td>\n",
       "      <td>1/4/2004</td>\n",
       "      <td>Ninh Binh</td>\n",
       "      <td>3.25</td>\n",
       "      <td>1</td>\n",
       "    </tr>\n",
       "    <tr>\n",
       "      <th>4</th>\n",
       "      <td>11220005</td>\n",
       "      <td>E</td>\n",
       "      <td>1/5/2004</td>\n",
       "      <td>Nghe An</td>\n",
       "      <td>4.50</td>\n",
       "      <td>1</td>\n",
       "    </tr>\n",
       "  </tbody>\n",
       "</table>\n",
       "</div>"
      ],
      "text/plain": [
       "   Ma sinh vien Ho va ten Ngay sinh    Dia chi  So gio  Dau?\n",
       "0      11220001         A  1/1/2004     Ha Noi    0.50     0\n",
       "1      11220002         B  1/2/2004  Ninh Binh    1.50     0\n",
       "2      11220003         C  1/3/2004  Thanh Hoa    2.25     1\n",
       "3      11220004         D  1/4/2004  Ninh Binh    3.25     1\n",
       "4      11220005         E  1/5/2004    Nghe An    4.50     1"
      ]
     },
     "execution_count": 9,
     "metadata": {},
     "output_type": "execute_result"
    }
   ],
   "source": [
    "import pandas as pd\n",
    "import matplotlib.pyplot as plt\n",
    "from sklearn import metrics\n",
    "import seaborn as sns\n",
    "\n",
    "df = pd.read_csv(\"exam-info.csv\")\n",
    "\n",
    "df.head()"
   ]
  },
  {
   "cell_type": "markdown",
   "id": "c47dab3b-507e-47a2-8125-68591558374b",
   "metadata": {},
   "source": [
    "## 1. Add Student ID, Fullname, Birthdate and Address columns to the data table. Separate the dataset into a training dataset and a testing dataset."
   ]
  },
  {
   "cell_type": "code",
   "execution_count": 12,
   "id": "cb269f9c-38f4-4f2a-afee-1fed8acf078e",
   "metadata": {},
   "outputs": [
    {
     "data": {
      "text/html": [
       "<div>\n",
       "<style scoped>\n",
       "    .dataframe tbody tr th:only-of-type {\n",
       "        vertical-align: middle;\n",
       "    }\n",
       "\n",
       "    .dataframe tbody tr th {\n",
       "        vertical-align: top;\n",
       "    }\n",
       "\n",
       "    .dataframe thead th {\n",
       "        text-align: right;\n",
       "    }\n",
       "</style>\n",
       "<table border=\"1\" class=\"dataframe\">\n",
       "  <thead>\n",
       "    <tr style=\"text-align: right;\">\n",
       "      <th></th>\n",
       "      <th>So gio</th>\n",
       "    </tr>\n",
       "  </thead>\n",
       "  <tbody>\n",
       "    <tr>\n",
       "      <th>13</th>\n",
       "      <td>4.00</td>\n",
       "    </tr>\n",
       "    <tr>\n",
       "      <th>6</th>\n",
       "      <td>1.75</td>\n",
       "    </tr>\n",
       "    <tr>\n",
       "      <th>16</th>\n",
       "      <td>2.00</td>\n",
       "    </tr>\n",
       "    <tr>\n",
       "      <th>1</th>\n",
       "      <td>1.50</td>\n",
       "    </tr>\n",
       "    <tr>\n",
       "      <th>9</th>\n",
       "      <td>4.75</td>\n",
       "    </tr>\n",
       "    <tr>\n",
       "      <th>14</th>\n",
       "      <td>5.00</td>\n",
       "    </tr>\n",
       "    <tr>\n",
       "      <th>12</th>\n",
       "      <td>2.75</td>\n",
       "    </tr>\n",
       "    <tr>\n",
       "      <th>5</th>\n",
       "      <td>0.75</td>\n",
       "    </tr>\n",
       "    <tr>\n",
       "      <th>2</th>\n",
       "      <td>2.25</td>\n",
       "    </tr>\n",
       "    <tr>\n",
       "      <th>4</th>\n",
       "      <td>4.50</td>\n",
       "    </tr>\n",
       "    <tr>\n",
       "      <th>10</th>\n",
       "      <td>1.00</td>\n",
       "    </tr>\n",
       "    <tr>\n",
       "      <th>0</th>\n",
       "      <td>0.50</td>\n",
       "    </tr>\n",
       "    <tr>\n",
       "      <th>15</th>\n",
       "      <td>1.25</td>\n",
       "    </tr>\n",
       "    <tr>\n",
       "      <th>7</th>\n",
       "      <td>2.50</td>\n",
       "    </tr>\n",
       "    <tr>\n",
       "      <th>3</th>\n",
       "      <td>3.25</td>\n",
       "    </tr>\n",
       "    <tr>\n",
       "      <th>8</th>\n",
       "      <td>3.50</td>\n",
       "    </tr>\n",
       "  </tbody>\n",
       "</table>\n",
       "</div>"
      ],
      "text/plain": [
       "    So gio\n",
       "13    4.00\n",
       "6     1.75\n",
       "16    2.00\n",
       "1     1.50\n",
       "9     4.75\n",
       "14    5.00\n",
       "12    2.75\n",
       "5     0.75\n",
       "2     2.25\n",
       "4     4.50\n",
       "10    1.00\n",
       "0     0.50\n",
       "15    1.25\n",
       "7     2.50\n",
       "3     3.25\n",
       "8     3.50"
      ]
     },
     "execution_count": 12,
     "metadata": {},
     "output_type": "execute_result"
    }
   ],
   "source": [
    "from sklearn.model_selection import train_test_split\n",
    "\n",
    "X_train, X_test, Y_train, Y_test = train_test_split(df[[\"So gio\"]], df[\"Dau?\"], test_size=0.2, random_state=100)\n",
    "\n",
    "X_train"
   ]
  },
  {
   "cell_type": "markdown",
   "id": "a065aa44-602a-431c-ba04-694db23fcc0b",
   "metadata": {},
   "source": [
    "## 2. Fulfill the following programming requirements:\n",
    "### a) Print the dataset's information and the meaning of attributes"
   ]
  },
  {
   "cell_type": "code",
   "execution_count": 13,
   "id": "82466074-5911-4a18-b139-d267f537fbbe",
   "metadata": {},
   "outputs": [
    {
     "name": "stdout",
     "output_type": "stream",
     "text": [
      "<class 'pandas.core.frame.DataFrame'>\n",
      "RangeIndex: 20 entries, 0 to 19\n",
      "Data columns (total 6 columns):\n",
      " #   Column        Non-Null Count  Dtype  \n",
      "---  ------        --------------  -----  \n",
      " 0   Ma sinh vien  20 non-null     int64  \n",
      " 1   Ho va ten     20 non-null     object \n",
      " 2   Ngay sinh     20 non-null     object \n",
      " 3   Dia chi       20 non-null     object \n",
      " 4   So gio        20 non-null     float64\n",
      " 5   Dau?          20 non-null     int64  \n",
      "dtypes: float64(1), int64(2), object(3)\n",
      "memory usage: 1.1+ KB\n"
     ]
    }
   ],
   "source": [
    "df.info()"
   ]
  },
  {
   "cell_type": "markdown",
   "id": "03937bed-e45a-434c-af6a-0f62ee712e54",
   "metadata": {},
   "source": [
    "### b) Visualize important informations with charts"
   ]
  },
  {
   "cell_type": "code",
   "execution_count": 14,
   "id": "a5bfab32-532f-496c-9891-6202dc33bd07",
   "metadata": {},
   "outputs": [
    {
     "data": {
      "text/plain": [
       "<Axes: xlabel='Dia chi', ylabel='count'>"
      ]
     },
     "execution_count": 14,
     "metadata": {},
     "output_type": "execute_result"
    },
    {
     "data": {
      "image/png": "[encoded data removed]",
      "text/plain": [
       "<Figure size 640x480 with 1 Axes>"
      ]
     },
     "metadata": {},
     "output_type": "display_data"
    }
   ],
   "source": [
    "# Count the student basing on their addresses\n",
    "sns.countplot(df, x=\"Dia chi\")"
   ]
  },
  {
   "cell_type": "code",
   "execution_count": 18,
   "id": "506e5569-6f82-44c5-a5ee-c829de6d4aee",
   "metadata": {},
   "outputs": [
    {
     "data": {
      "text/plain": [
       "<Axes: xlabel='Dau?', ylabel='count'>"
      ]
     },
     "execution_count": 18,
     "metadata": {},
     "output_type": "execute_result"
    },
    {
     "data": {
      "image/png": "[encoded data removed]",
      "text/plain": [
       "<Figure size 640x480 with 1 Axes>"
      ]
     },
     "metadata": {},
     "output_type": "display_data"
    }
   ],
   "source": [
    "# How many students pass the exam and how many students do not? \n",
    "sns.countplot(df, x=\"Dau?\")"
   ]
  },
  {
   "cell_type": "code",
   "execution_count": 23,
   "id": "c81c535b-fd91-4fae-a247-c974c19f1581",
   "metadata": {},
   "outputs": [
    {
     "data": {
      "text/plain": [
       "<Axes: xlabel='So gio', ylabel='Dau?'>"
      ]
     },
     "execution_count": 23,
     "metadata": {},
     "output_type": "execute_result"
    },
    {
     "data": {
      "image/png": "[encoded data removed]",
      "text/plain": [
       "<Figure size 640x480 with 1 Axes>"
      ]
     },
     "metadata": {},
     "output_type": "display_data"
    }
   ],
   "source": [
    "# Relation between hours spent and exam result\n",
    "sns.scatterplot(df, x=\"So gio\", y=\"Dau?\")"
   ]
  },
  {
   "cell_type": "markdown",
   "id": "95a75a2f-b06c-4d59-82e0-45297b6f185d",
   "metadata": {},
   "source": [
    "### c) Find the correlation between hours spent and exam result"
   ]
  },
  {
   "cell_type": "code",
   "execution_count": 25,
   "id": "84061e61-4324-4fc6-bd9f-bf0a4d37499f",
   "metadata": {},
   "outputs": [
    {
     "data": {
      "text/html": [
       "<div>\n",
       "<style scoped>\n",
       "    .dataframe tbody tr th:only-of-type {\n",
       "        vertical-align: middle;\n",
       "    }\n",
       "\n",
       "    .dataframe tbody tr th {\n",
       "        vertical-align: top;\n",
       "    }\n",
       "\n",
       "    .dataframe thead th {\n",
       "        text-align: right;\n",
       "    }\n",
       "</style>\n",
       "<table border=\"1\" class=\"dataframe\">\n",
       "  <thead>\n",
       "    <tr style=\"text-align: right;\">\n",
       "      <th></th>\n",
       "      <th>So gio</th>\n",
       "      <th>Dau?</th>\n",
       "    </tr>\n",
       "  </thead>\n",
       "  <tbody>\n",
       "    <tr>\n",
       "      <th>So gio</th>\n",
       "      <td>1.000000</td>\n",
       "      <td>0.645012</td>\n",
       "    </tr>\n",
       "    <tr>\n",
       "      <th>Dau?</th>\n",
       "      <td>0.645012</td>\n",
       "      <td>1.000000</td>\n",
       "    </tr>\n",
       "  </tbody>\n",
       "</table>\n",
       "</div>"
      ],
      "text/plain": [
       "          So gio      Dau?\n",
       "So gio  1.000000  0.645012\n",
       "Dau?    0.645012  1.000000"
      ]
     },
     "execution_count": 25,
     "metadata": {},
     "output_type": "execute_result"
    }
   ],
   "source": [
    "df[[\"So gio\", \"Dau?\"]].corr()"
   ]
  },
  {
   "cell_type": "code",
   "execution_count": 26,
   "id": "a26492a7-490b-42ba-948b-f0476d3592b5",
   "metadata": {},
   "outputs": [
    {
     "data": {
      "text/plain": [
       "<Axes: >"
      ]
     },
     "execution_count": 26,
     "metadata": {},
     "output_type": "execute_result"
    },
    {
     "data": {
      "image/png": "[encoded data removed]",
      "text/plain": [
       "<Figure size 640x480 with 2 Axes>"
      ]
     },
     "metadata": {},
     "output_type": "display_data"
    }
   ],
   "source": [
    "sns.heatmap(df[[\"So gio\", \"Dau?\"]].corr(), annot=True, fmt='.0%')"
   ]
  },
  {
   "cell_type": "markdown",
   "id": "10721187-6003-4a46-9d69-2d942d898dca",
   "metadata": {},
   "source": [
    "### d) Build a suitable regression model to show the exam result basing on students' hours spent. Choose appropriate attributes and cite out the efficiency of the model."
   ]
  },
  {
   "cell_type": "markdown",
   "id": "5549c5b9-7365-4abf-a492-369179adbd6a",
   "metadata": {},
   "source": [
    "This time I use Logistic Regression model. So what is the difference between Linear Regression model and the Logistic one?\n",
    "- Linear Regression: The output is a continuous value on a number line.\n",
    "- Logistic Regression: The output is the probability of **an event belonging to a specific category**. It typically outputs values between 0 and 1, where 0 represents a very low probability and 1 represents a very high probability.\n",
    "=> We want to determine that the student can pass the exam or not, so Logistic Regression is the best choice."
   ]
  },
  {
   "cell_type": "code",
   "execution_count": 38,
   "id": "defe56ee-5949-4007-b075-ec50f7648d2c",
   "metadata": {},
   "outputs": [
    {
     "name": "stdout",
     "output_type": "stream",
     "text": [
      "Accuracy Rate: 81.25%\n"
     ]
    }
   ],
   "source": [
    "from sklearn.linear_model import LogisticRegression\n",
    "\n",
    "model = LogisticRegression()\n",
    "model.fit(X_train,Y_train)\n",
    "\n",
    "prediction = model.predict(X_test)\n",
    "\n",
    "print(\"Accuracy Rate: \" + str(round(model.score(X_train, Y_train)*100, 2)) + \"%\")"
   ]
  },
  {
   "cell_type": "markdown",
   "id": "f6443758-3ad2-4010-8cfd-f05513589fc4",
   "metadata": {},
   "source": [
    "### e) Basing on the model in d), predict the result of a student who spent 3.75 hours"
   ]
  },
  {
   "cell_type": "code",
   "execution_count": 41,
   "id": "d9577856-4a8b-4aa7-92ee-58b93e15fdda",
   "metadata": {},
   "outputs": [
    {
     "name": "stdout",
     "output_type": "stream",
     "text": [
      "Predict Result: 1\n"
     ]
    },
    {
     "name": "stderr",
     "output_type": "stream",
     "text": [
      "/Library/Frameworks/Python.framework/Versions/3.12/lib/python3.12/site-packages/sklearn/base.py:493: UserWarning: X does not have valid feature names, but LogisticRegression was fitted with feature names\n",
      "  warnings.warn(\n"
     ]
    }
   ],
   "source": [
    "predict_result = model.predict([[3.75]])[0]\n",
    "\n",
    "print(f\"Predict Result: {predict_result}\")"
   ]
  }
 ],
 "metadata": {
  "kernelspec": {
   "display_name": "Python 3 (ipykernel)",
   "language": "python",
   "name": "python3"
  },
  "language_info": {
   "codemirror_mode": {
    "name": "ipython",
    "version": 3
   },
   "file_extension": ".py",
   "mimetype": "text/x-python",
   "name": "python",
   "nbconvert_exporter": "python",
   "pygments_lexer": "ipython3",
   "version": "3.12.1"
  }
 },
 "nbformat": 4,
 "nbformat_minor": 5
}
